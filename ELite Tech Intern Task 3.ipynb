{
 "cells": [
  {
   "cell_type": "markdown",
   "id": "8d17a639-e23f-4904-af78-5e754f3c42f1",
   "metadata": {},
   "source": [
    "# ELite Tech Intern Task 3: Sentiment Analysis of Product Reviews"
   ]
  },
  {
   "cell_type": "code",
   "execution_count": 10,
   "id": "61c61998-2c8f-4023-b811-e26fa16eefde",
   "metadata": {},
   "outputs": [
    {
     "name": "stdout",
     "output_type": "stream",
     "text": [
      "Collecting vaderSentiment\n",
      "  Downloading vaderSentiment-3.3.2-py2.py3-none-any.whl.metadata (572 bytes)\n",
      "Requirement already satisfied: requests in c:\\users\\rohit gupta\\anaconda3\\lib\\site-packages (from vaderSentiment) (2.31.0)\n",
      "Requirement already satisfied: charset-normalizer<4,>=2 in c:\\users\\rohit gupta\\anaconda3\\lib\\site-packages (from requests->vaderSentiment) (2.0.4)\n",
      "Requirement already satisfied: idna<4,>=2.5 in c:\\users\\rohit gupta\\anaconda3\\lib\\site-packages (from requests->vaderSentiment) (3.4)\n",
      "Requirement already satisfied: urllib3<3,>=1.21.1 in c:\\users\\rohit gupta\\anaconda3\\lib\\site-packages (from requests->vaderSentiment) (2.0.7)\n",
      "Requirement already satisfied: certifi>=2017.4.17 in c:\\users\\rohit gupta\\anaconda3\\lib\\site-packages (from requests->vaderSentiment) (2024.7.4)\n",
      "Downloading vaderSentiment-3.3.2-py2.py3-none-any.whl (125 kB)\n",
      "   ---------------------------------------- 0.0/126.0 kB ? eta -:--:--\n",
      "   --- ------------------------------------ 10.2/126.0 kB ? eta -:--:--\n",
      "   --------- ----------------------------- 30.7/126.0 kB 435.7 kB/s eta 0:00:01\n",
      "   ---------------------------------------  122.9/126.0 kB 1.2 MB/s eta 0:00:01\n",
      "   ---------------------------------------- 126.0/126.0 kB 1.1 MB/s eta 0:00:00\n",
      "Installing collected packages: vaderSentiment\n",
      "Successfully installed vaderSentiment-3.3.2\n",
      "Note: you may need to restart the kernel to use updated packages.\n"
     ]
    }
   ],
   "source": [
    "pip install vaderSentiment"
   ]
  },
  {
   "cell_type": "code",
   "execution_count": 12,
   "id": "c9d02c8a-f71b-46ea-9af5-1a51d03a7ffd",
   "metadata": {},
   "outputs": [],
   "source": [
    "import pandas as pd\n",
    "from vaderSentiment.vaderSentiment import SentimentIntensityAnalyzer"
   ]
  },
  {
   "cell_type": "code",
   "execution_count": 16,
   "id": "ba6b4f9d-98c6-4e47-af1b-8a935d1cfe75",
   "metadata": {},
   "outputs": [],
   "source": [
    "#  A sample dataset of product reviews\n",
    "data = {\n",
    "    'Review': [\n",
    "        'This product is amazing! I love it.',\n",
    "        'Terrible quality, very disappointed.',\n",
    "        'It is okay, not too bad but not great either.',\n",
    "        'Exceeded my expectations, excellent value for money!',\n",
    "        'Not worth the price, quite disappointing.',\n",
    "        'The service was fantastic, highly recommend!',\n",
    "        'Neutral experience, nothing special to mention.',\n",
    "        'Awful customer support, will not buy again.',\n",
    "        'Good product overall, satisfied with the purchase.',\n",
    "        'The product is decent but could be improved.'\n",
    "    ]\n",
    "}\n",
    "\n",
    "# Converting the data into a DataFrame\n",
    "df = pd.DataFrame(data)\n",
    "\n",
    "# Initializing the VADER Sentiment Analyzer\n",
    "analyzer = SentimentIntensityAnalyzer()"
   ]
  },
  {
   "cell_type": "code",
   "execution_count": 18,
   "id": "a46f3f36-4aad-4e86-a278-c3061c58a28a",
   "metadata": {},
   "outputs": [],
   "source": [
    "# Function to analyze sentiment\n",
    "def analyze_sentiment(text):\n",
    "    sentiment = analyzer.polarity_scores(text)\n",
    "    if sentiment['compound'] >= 0.05:\n",
    "        return 'Positive'\n",
    "    elif sentiment['compound'] <= -0.05:\n",
    "        return 'Negative'\n",
    "    else:\n",
    "        return 'Neutral'"
   ]
  },
  {
   "cell_type": "code",
   "execution_count": 20,
   "id": "70785f1c-29e9-41ce-b96d-38894c35c661",
   "metadata": {},
   "outputs": [],
   "source": [
    "# Apply the sentiment analysis function to the reviews\n",
    "df['Sentiment'] = df['Review'].apply(analyze_sentiment)"
   ]
  },
  {
   "cell_type": "code",
   "execution_count": 22,
   "id": "2e0accc0-7f37-4b2d-81f5-40a71d914359",
   "metadata": {},
   "outputs": [
    {
     "name": "stdout",
     "output_type": "stream",
     "text": [
      "                                              Review Sentiment\n",
      "0                This product is amazing! I love it.  Positive\n",
      "1               Terrible quality, very disappointed.  Negative\n",
      "2      It is okay, not too bad but not great either.  Negative\n",
      "3  Exceeded my expectations, excellent value for ...  Positive\n",
      "4          Not worth the price, quite disappointing.  Negative\n",
      "5       The service was fantastic, highly recommend!  Positive\n",
      "6    Neutral experience, nothing special to mention.  Negative\n",
      "7        Awful customer support, will not buy again.  Negative\n",
      "8  Good product overall, satisfied with the purch...  Positive\n",
      "9       The product is decent but could be improved.  Positive\n"
     ]
    }
   ],
   "source": [
    "# Save the results to a new CSV file\n",
    "df.to_csv('sentiment_analysis_results.csv', index=False)\n",
    "\n",
    "# Display the DataFrame with the sentiment results\n",
    "print(df)"
   ]
  },
  {
   "cell_type": "markdown",
   "id": "837923f2-3987-438e-be39-ab3403ad669f",
   "metadata": {},
   "source": [
    "### The image displays the results of sentiment analysis conducted on a sample dataset of product reviews.\n",
    "- If there are many \"Positive\" reviews, it suggests customer satisfaction.\n",
    "- A higher number of \"Negative\" reviews highlights areas for improvement."
   ]
  },
  {
   "cell_type": "code",
   "execution_count": null,
   "id": "55d5949e-f381-4f0f-987c-67d0cfd13ea2",
   "metadata": {},
   "outputs": [],
   "source": []
  },
  {
   "cell_type": "code",
   "execution_count": null,
   "id": "349b749d-1947-418c-9a7f-88cc13bc32d5",
   "metadata": {},
   "outputs": [],
   "source": []
  },
  {
   "cell_type": "code",
   "execution_count": null,
   "id": "dff1105b-28ba-4cab-8729-83ff6a842bf7",
   "metadata": {},
   "outputs": [],
   "source": []
  },
  {
   "cell_type": "code",
   "execution_count": null,
   "id": "81e907dc-7515-4346-b28f-11e03634c026",
   "metadata": {},
   "outputs": [],
   "source": []
  },
  {
   "cell_type": "code",
   "execution_count": null,
   "id": "a87eee8d-b1df-4b2f-ab9a-ce5641fddb42",
   "metadata": {},
   "outputs": [],
   "source": []
  },
  {
   "cell_type": "code",
   "execution_count": null,
   "id": "441642c5-81c3-4183-a8db-af92e1b1ab4e",
   "metadata": {},
   "outputs": [],
   "source": []
  },
  {
   "cell_type": "code",
   "execution_count": null,
   "id": "366cf672-d57d-4ca1-aa3b-cbf7d5e29e4d",
   "metadata": {},
   "outputs": [],
   "source": []
  },
  {
   "cell_type": "code",
   "execution_count": null,
   "id": "ab89af96-a22d-4cc9-9926-24e19c6a6e1b",
   "metadata": {},
   "outputs": [],
   "source": []
  },
  {
   "cell_type": "code",
   "execution_count": null,
   "id": "4a16a321-32b8-40ea-ad1a-98bf2182719f",
   "metadata": {},
   "outputs": [],
   "source": []
  },
  {
   "cell_type": "code",
   "execution_count": null,
   "id": "e3702f93-cb15-45b4-94b1-12682701c4ed",
   "metadata": {},
   "outputs": [],
   "source": []
  },
  {
   "cell_type": "code",
   "execution_count": null,
   "id": "23c69c09-9e93-43fc-b478-d4614b8d4da8",
   "metadata": {},
   "outputs": [],
   "source": []
  },
  {
   "cell_type": "code",
   "execution_count": null,
   "id": "12ff13e7-a650-4bfa-98a9-212d3f7a9e6b",
   "metadata": {},
   "outputs": [],
   "source": []
  },
  {
   "cell_type": "code",
   "execution_count": null,
   "id": "e7916acd-930f-45dd-abb4-ad14b245de1c",
   "metadata": {},
   "outputs": [],
   "source": []
  },
  {
   "cell_type": "code",
   "execution_count": null,
   "id": "ff5ebee9-0eb1-4544-acd9-339f94f78311",
   "metadata": {},
   "outputs": [],
   "source": []
  },
  {
   "cell_type": "code",
   "execution_count": null,
   "id": "c3a82a51-84e9-40bf-bb63-0610ea95339d",
   "metadata": {},
   "outputs": [],
   "source": []
  },
  {
   "cell_type": "code",
   "execution_count": null,
   "id": "c7aa578c-6c98-434e-8007-7bad1ea9e364",
   "metadata": {},
   "outputs": [],
   "source": []
  },
  {
   "cell_type": "code",
   "execution_count": null,
   "id": "a005153e-9396-41c4-a09f-853d8816b3f8",
   "metadata": {},
   "outputs": [],
   "source": []
  },
  {
   "cell_type": "code",
   "execution_count": null,
   "id": "5a20cf6f-9851-4f3e-ab21-92dc193ca173",
   "metadata": {},
   "outputs": [],
   "source": []
  },
  {
   "cell_type": "code",
   "execution_count": null,
   "id": "858615e7-2de9-45eb-b346-a7cfee0899d2",
   "metadata": {},
   "outputs": [],
   "source": []
  },
  {
   "cell_type": "code",
   "execution_count": null,
   "id": "d96e66da-7c47-49b1-a0d4-a276a1c008c2",
   "metadata": {},
   "outputs": [],
   "source": []
  },
  {
   "cell_type": "code",
   "execution_count": null,
   "id": "a7e03aab-8a1c-4106-ab33-88c5c906f17c",
   "metadata": {},
   "outputs": [],
   "source": []
  },
  {
   "cell_type": "code",
   "execution_count": null,
   "id": "5289e394-2732-4fac-817b-303708767d27",
   "metadata": {},
   "outputs": [],
   "source": []
  }
 ],
 "metadata": {
  "kernelspec": {
   "display_name": "Python 3 (ipykernel)",
   "language": "python",
   "name": "python3"
  },
  "language_info": {
   "codemirror_mode": {
    "name": "ipython",
    "version": 3
   },
   "file_extension": ".py",
   "mimetype": "text/x-python",
   "name": "python",
   "nbconvert_exporter": "python",
   "pygments_lexer": "ipython3",
   "version": "3.11.7"
  }
 },
 "nbformat": 4,
 "nbformat_minor": 5
}
